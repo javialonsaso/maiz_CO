{
 "cells": [
  {
   "cell_type": "markdown",
   "metadata": {
    "colab_type": "text",
    "id": "KgNiQAaUhFfw"
   },
   "source": [
    "# Anexo I: Transfromación y Extracción de Temperatura"
   ]
  },
  {
   "cell_type": "markdown",
   "metadata": {
    "colab_type": "text",
    "id": "CqFqlKRbhM0A"
   },
   "source": [
    "## Instalación de Paquetes Requeridos\n",
    "\n",
    "Se trabaja con la API de Google Earth Engine para el acceso y procesamiento de imágenes satelitales."
   ]
  },
  {
   "cell_type": "code",
   "execution_count": null,
   "metadata": {
    "colab": {},
    "colab_type": "code",
    "id": "TXUgG7vIXFwK"
   },
   "outputs": [],
   "source": [
    "!pip install google-api-python-client\n",
    "!pip install earthengine-api\n",
    "!earthengine authenticate"
   ]
  },
  {
   "cell_type": "markdown",
   "metadata": {
    "colab_type": "text",
    "id": "rsV4S8FQhied"
   },
   "source": [
    "## Importar Paquetes\n",
    "\n",
    "Se importan las librerías necesarias y se inicializa la API de Google Earth Engine."
   ]
  },
  {
   "cell_type": "code",
   "execution_count": null,
   "metadata": {
    "colab": {},
    "colab_type": "code",
    "id": "LFeSWddUXWa4"
   },
   "outputs": [],
   "source": [
    "from datetime import datetime as dt\n",
    "import pandas as pd\n",
    "import numpy as np\n",
    "import ee\n",
    "\n",
    "ee.Initialize()"
   ]
  },
  {
   "cell_type": "markdown",
   "metadata": {
    "colab_type": "text",
    "id": "sMtsdj6KhrsK"
   },
   "source": [
    "## Cálculo de Temperatura Media por Imagen\n",
    "\n",
    "Se define una función que corta las imágenes a la extensión de Colombia, selecciona las imágenes de temperatura máxima y mínima, calcula la media como la suma de ambas dividida en 2, la multiplica por 0.02 (factor de conversión para obtener la temperatura en Kelvin) y se divide por 273.15 para tenerla en Celsius."
   ]
  },
  {
   "cell_type": "code",
   "execution_count": null,
   "metadata": {
    "colab": {},
    "colab_type": "code",
    "id": "iKyGeXOkXZ7t"
   },
   "outputs": [],
   "source": [
    "def setMeanTemperature(image):  \n",
    "  img = image.clip(COL) # CORTAR A LA EXTENSION DE COLOMBIA\n",
    "  TMIN = img.select('LST_Night_1km') # SELECCIONAR BANDA DE TEMPERATURA MINIMA\n",
    "  TMAX = img.select('LST_Day_1km') # SELECCIONAR BANDA DE TEMPERATURA MAXIMA\n",
    "  TMED = TMIN.add(TMAX).divide(2).multiply(0.02).subtract(273.15) # CALCULAR Y TRANSFORMAR TEMPERATURA A MEDIA CELSIUS\n",
    "  return TMED.copyProperties(img,['system:time_start']) # RETORNAR IMAGEN MANTENIENDO LAS PROPIEDADES ORIGINALES"
   ]
  },
  {
   "cell_type": "markdown",
   "metadata": {
    "colab_type": "text",
    "id": "37uWnd7KkO0P"
   },
   "source": [
    "## Definición de Variables Necesarias\n",
    "\n",
    "Colección espacial de la extensión de Colombia, colección espacial de la cobertura de cada municipio de Colombia, nombres de cada municipio y la cantidad de departamentos."
   ]
  },
  {
   "cell_type": "code",
   "execution_count": null,
   "metadata": {
    "colab": {},
    "colab_type": "code",
    "id": "E1eWqcHCYncG"
   },
   "outputs": [],
   "source": [
    "COL = ee.FeatureCollection('users/dmlmont/Colombia') # COLECCION ESPACIAL DE COLOMBIA\n",
    "MUN = ee.FeatureCollection('users/dmlmont/Municipios_2017') # COLECCION ESPACIAL DE MUNICIPIOS\n",
    "NAMES = ee.List(MUN.aggregate_array(\"NOM_DEP\")).distinct(); # NOMBRES DE CADA MUNICIPIO\n",
    "TOTAL_DEP = NAMES.size().getInfo() # CANTIDAD DE DEPARTAMENTOS"
   ]
  },
  {
   "cell_type": "markdown",
   "metadata": {
    "colab_type": "text",
    "id": "0Afe8D1ekt41"
   },
   "source": [
    "## Agregación de Temperatura por Semestre\n",
    "\n",
    "Se obtiene la colección de imágenes de temperatura de MODIS y se calcula la temperatura media por semestre."
   ]
  },
  {
   "cell_type": "code",
   "execution_count": null,
   "metadata": {
    "colab": {},
    "colab_type": "code",
    "id": "SZlKoqnJkucD"
   },
   "outputs": [],
   "source": [
    "MODIS = ee.ImageCollection('MODIS/006/MOD11A1') # TODA LA COLECCION DE TEMPERATURA DE MODIS\n",
    "  .filterDate('2015-01-01','2018-06-30') # SE FILTRA POR LA COBERTURA TEMPORAL NECESARIA\n",
    "  .filterBounds(COL) # SE FILTRA POR LA COBERTURA ESPACIAL NECESARIA\n",
    "  .map(setMeanTemperature) # SE UTILIZA LA FUNCION CREADA PARA OBTENER TEMPERATURA MEDIA POR IMAGEN\n",
    "\n",
    "# TEMPERATURA 2015\n",
    "MOD2015A = MODIS.filterDate('2015-01-01','2015-06-30').mean().set('system:time_start',ee.Date('2015-01-01'));\n",
    "MOD2015B = MODIS.filterDate('2015-07-01','2015-12-31').mean().set('system:time_start',ee.Date('2015-07-01'));\n",
    "\n",
    "# TEMPERATURA 2016\n",
    "MOD2016A = MODIS.filterDate('2016-01-01','2016-06-30').mean().set('system:time_start',ee.Date('2016-01-01'));\n",
    "MOD2016B = MODIS.filterDate('2016-07-01','2016-12-31').mean().set('system:time_start',ee.Date('2016-07-01'));\n",
    "\n",
    "# TEMPERATURA 2017\n",
    "MOD2017A = MODIS.filterDate('2017-01-01','2017-06-30').mean().set('system:time_start',ee.Date('2017-01-01'));\n",
    "MOD2017B = MODIS.filterDate('2017-07-01','2017-12-31').mean().set('system:time_start',ee.Date('2017-07-01'));\n",
    "\n",
    "# TEMPERATURA 2018\n",
    "MOD2018A = MODIS.filterDate('2018-01-01','2018-06-30').mean().set('system:time_start',ee.Date('2018-01-01'));\n",
    "\n",
    "# LISTA DE IMAGENES OBTENIDAS (7 IMAGENES EN TOTAL)\n",
    "# Y NOMBRES PARA AGREGAR COMO COLUMNAS A LA BASE DE DATOS\n",
    "MOD_IMAGES = [MOD2015A,MOD2015B,MOD2016A,MOD2016B,MOD2017A,MOD2017B,MOD2018A]\n",
    "MOD_IMAGES_NAMES = [\"MOD2015A\",\"MOD2015B\",\"MOD2016A\",\"MOD2016B\",\"MOD2017A\",\"MOD2017B\",\"MOD2018A\"]"
   ]
  },
  {
   "cell_type": "markdown",
   "metadata": {
    "colab_type": "text",
    "id": "l7ebk944ku4N"
   },
   "source": [
    "## Extracción de Temperatura por Municipio\n",
    "\n",
    "Se extrae el promedio de temperatura de los pixeles que están dentro de cada municipio."
   ]
  },
  {
   "cell_type": "code",
   "execution_count": null,
   "metadata": {
    "colab": {},
    "colab_type": "code",
    "id": "UQcbPUw348Ux"
   },
   "outputs": [],
   "source": [
    "df = pd.DataFrame() # DATA FRAME VACIO PARA GUARDAR DATOS\n",
    "\n",
    "# SE HARA UN CICLO PARA CADA DEPARTAMENTO\n",
    "# SI SE PASAN TODOS LOS MUNICIPIOS GOOGLE ARROJA LIMITE DE MEMORIA EXCEDIDO\n",
    "for dept in range(TOTAL_DEP):\n",
    "\n",
    "  M = MUN.filter(ee.Filter.eq('NOM_DEP',NAMES.get(dept))) # MUNICIPIOS DEL DEPARTAMENTO\n",
    "  features = M.getInfo()['features'] # FEATURES DEL DEPARTAMENTO\n",
    "\n",
    "  data = list() # LISTA VACIA PARA GUARDAR DATOS POR DEPATRAMENTP\n",
    "\n",
    "  # RECORREMOS TODAS LAS FEATURES DEL DEPARTAMENTO (MUNICIPIOS)\n",
    "  for f in range(len(features)):\n",
    "    \n",
    "    geom = features[f]['geometry'] # GEOMETRIA ESPACIAL DE CADA MUNICIPIO\n",
    "\n",
    "    # CHEQUEAMOS QUE LAS GEOMETRIAS SEAN POLIGONOS O POLIGONOS DENTRO DE UNA COLECCION DE GEOMETRIAS\n",
    "    # SI UN MUNICIPIO TIENE GEOMETRIAS QUE NO SON POLIGONOS LAS OBVIAMOS\n",
    "    if geom['type'] == 'Polygon':\n",
    "      polygon = ee.Geometry.Polygon(geom['coordinates'])\n",
    "    elif geom['type'] == 'GeometryCollection':\n",
    "      for g in range(len(geom['geometries'])):\n",
    "        if geom['geometries'][g]['type'] == 'Polygon':\n",
    "          polygon = ee.Geometry.Polygon(geom['geometries'][g]['coordinates'])\n",
    "        else:\n",
    "          pass\n",
    "    else:\n",
    "      pass\n",
    "    \n",
    "    featureData = features[f]['properties'] # EXTRAEMOS LOS DATOS ASOCIADOS A CADA MUNICIPIO (NOMBRE, DEPARTAMENTO, ETC.)\n",
    "    fc = ee.FeatureCollection(polygon) # CONVERTIMOS EL POLIGONO A UNA COLECCION ESPACIAL\n",
    "\n",
    "    # PARA CADA IMAGEN VAMOS A CALCULAR EL PROMEDIO DE PIXELES POR MUNICIPIO\n",
    "    for i in range(len(MOD_IMAGES)):\n",
    "      img = MOD_IMAGES[i]  # IMAGEN DE TEMPERATURA i\n",
    "      imgName = MOD_IMAGES_NAMES[i] # NOMBRE DE LA IMAGEN i\n",
    "      tmean_dictionary = img.reduceRegion(ee.Reducer.mean(),fc,1000) # EXTRAER PROMEDIO DE TEMPERATURA EN UN DICCIONARIO\n",
    "      tmean_value = tmean_dictionary.get('LST_Night_1km') # EXTRAER EL VALOR DEL DICCIONARIO\n",
    "      featureData[imgName] = tmean_value.getInfo() # AGREGAR UNA NUEVA COLUMNA A LOS DATOS DE CADA MUNICIPIO CON LA TEMPERATURA\n",
    "\n",
    "    keys = list(featureData.keys()) # GUARDAR LAS KEYS PARA USARLAS COMO NOMBRES\n",
    "    values = list(featureData.values()) # GUARDAR LOS VALORES DE CADA DATO\n",
    "    data.append(values) # AGREGAR A LA LISTA VACIA\n",
    "\n",
    "  df = df.append(pd.DataFrame(data,columns = keys),ignore_index = True) # CREAR BASE DE DATOS COMPLETA"
   ]
  },
  {
   "cell_type": "markdown",
   "metadata": {
    "colab_type": "text",
    "id": "SfiLjO6Wr_sK"
   },
   "source": [
    "## Exportar Datos"
   ]
  },
  {
   "cell_type": "code",
   "execution_count": null,
   "metadata": {
    "colab": {},
    "colab_type": "code",
    "id": "qkGCiUrDUh7M"
   },
   "outputs": [],
   "source": [
    "from google.colab import drive # IMPORTAR DRIVE PARA EXPORTAR DATOS (SOLO EN LINEA, EN LOCAL NO ES NECESARIO)\n",
    "\n",
    "drive.mount('/content/drive') # AUTORIZAR DRIVE"
   ]
  },
  {
   "cell_type": "code",
   "execution_count": null,
   "metadata": {
    "colab": {},
    "colab_type": "code",
    "id": "zC7ogl8lXPwz"
   },
   "outputs": [],
   "source": [
    "df.to_csv(r'/content/drive/My Drive/DLC.csv',index = False) # EXPORTAR DATOS A UN CSV"
   ]
  }
 ],
 "metadata": {
  "colab": {
   "collapsed_sections": [],
   "name": "DataLifeCycle.ipynb",
   "provenance": []
  },
  "kernelspec": {
   "display_name": "Python 3",
   "language": "python",
   "name": "python3"
  },
  "language_info": {
   "codemirror_mode": {
    "name": "ipython",
    "version": 3
   },
   "file_extension": ".py",
   "mimetype": "text/x-python",
   "name": "python",
   "nbconvert_exporter": "python",
   "pygments_lexer": "ipython3",
   "version": "3.8.1"
  }
 },
 "nbformat": 4,
 "nbformat_minor": 4
}
