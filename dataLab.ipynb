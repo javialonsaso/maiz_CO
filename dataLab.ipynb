{
 "cells": [
  {
   "cell_type": "code",
   "execution_count": 20,
   "metadata": {},
   "outputs": [],
   "source": [
    "import pandas as pd\n",
    "import numpy as np\n",
    "import matplotlib.pyplot as plt\n",
    "import re\n",
    "\n",
    "data_m = pd.read_csv(\"Cadena_Productiva_Maiz_-_Area__Produccion_Y_Rendimiento.csv\")\n",
    "data_t = pd.read_csv(\"tmean_gathered.csv\")\n",
    "\n",
    "# %matplotlib notebook"
   ]
  },
  {
   "cell_type": "code",
   "execution_count": 21,
   "metadata": {},
   "outputs": [
    {
     "data": {
      "text/html": [
       "<div>\n",
       "<style scoped>\n",
       "    .dataframe tbody tr th:only-of-type {\n",
       "        vertical-align: middle;\n",
       "    }\n",
       "\n",
       "    .dataframe tbody tr th {\n",
       "        vertical-align: top;\n",
       "    }\n",
       "\n",
       "    .dataframe thead th {\n",
       "        text-align: right;\n",
       "    }\n",
       "</style>\n",
       "<table border=\"1\" class=\"dataframe\">\n",
       "  <thead>\n",
       "    <tr style=\"text-align: right;\">\n",
       "      <th></th>\n",
       "      <th>CÓD. DEP.</th>\n",
       "      <th>DEPARTAMENTO</th>\n",
       "      <th>CÓD. MUN.</th>\n",
       "      <th>MUNICIPIO</th>\n",
       "      <th>GRUPO DE CULTIVO</th>\n",
       "      <th>SUBGRUPO DE CULTIVO</th>\n",
       "      <th>CULTIVO</th>\n",
       "      <th>DESAGREGACIÓN REGIONAL Y/O SISTEMA PRODUCTIVO</th>\n",
       "      <th>CÓDIGO CULTIVO</th>\n",
       "      <th>NOMBRE CIENTIFICO</th>\n",
       "      <th>PERIODO</th>\n",
       "      <th>Área Sembrada(ha)</th>\n",
       "      <th>Área Cosechada(ha)</th>\n",
       "      <th>Producción(t)</th>\n",
       "      <th>Rendimiento(t/ha)</th>\n",
       "      <th>ESTADO FISICO PRODUCCION</th>\n",
       "    </tr>\n",
       "  </thead>\n",
       "  <tbody>\n",
       "    <tr>\n",
       "      <th>0</th>\n",
       "      <td>5</td>\n",
       "      <td>ANTIOQUIA</td>\n",
       "      <td>5579</td>\n",
       "      <td>PUERTO BERRIO</td>\n",
       "      <td>CEREALES</td>\n",
       "      <td>MAIZ FORRAJERO</td>\n",
       "      <td>MAIZ FORRAJERO</td>\n",
       "      <td>MAIZ FORRAJERO</td>\n",
       "      <td>1060101</td>\n",
       "      <td>ZEA MAYS</td>\n",
       "      <td>2018A</td>\n",
       "      <td>150</td>\n",
       "      <td>150</td>\n",
       "      <td>4200</td>\n",
       "      <td>28.0</td>\n",
       "      <td>GRANO SECO</td>\n",
       "    </tr>\n",
       "    <tr>\n",
       "      <th>1</th>\n",
       "      <td>5</td>\n",
       "      <td>ANTIOQUIA</td>\n",
       "      <td>5400</td>\n",
       "      <td>LA UNION</td>\n",
       "      <td>CEREALES</td>\n",
       "      <td>MAIZ FORRAJERO</td>\n",
       "      <td>MAIZ FORRAJERO</td>\n",
       "      <td>MAIZ FORRAJERO</td>\n",
       "      <td>1060101</td>\n",
       "      <td>ZEA MAYS</td>\n",
       "      <td>2018A</td>\n",
       "      <td>23</td>\n",
       "      <td>22</td>\n",
       "      <td>726</td>\n",
       "      <td>33.0</td>\n",
       "      <td>GRANO SECO</td>\n",
       "    </tr>\n",
       "    <tr>\n",
       "      <th>2</th>\n",
       "      <td>20</td>\n",
       "      <td>CESAR</td>\n",
       "      <td>20250</td>\n",
       "      <td>EL PASO</td>\n",
       "      <td>CEREALES</td>\n",
       "      <td>MAIZ FORRAJERO</td>\n",
       "      <td>MAIZ FORRAJERO</td>\n",
       "      <td>MAIZ FORRAJERO</td>\n",
       "      <td>1060101</td>\n",
       "      <td>ZEA MAYS</td>\n",
       "      <td>2018A</td>\n",
       "      <td>320</td>\n",
       "      <td>74</td>\n",
       "      <td>222</td>\n",
       "      <td>3.0</td>\n",
       "      <td>GRANO SECO</td>\n",
       "    </tr>\n",
       "  </tbody>\n",
       "</table>\n",
       "</div>"
      ],
      "text/plain": [
       "   CÓD. DEP. DEPARTAMENTO  CÓD. MUN.      MUNICIPIO GRUPO DE CULTIVO  \\\n",
       "0          5    ANTIOQUIA       5579  PUERTO BERRIO         CEREALES   \n",
       "1          5    ANTIOQUIA       5400       LA UNION         CEREALES   \n",
       "2         20        CESAR      20250        EL PASO         CEREALES   \n",
       "\n",
       "  SUBGRUPO DE CULTIVO         CULTIVO  \\\n",
       "0      MAIZ FORRAJERO  MAIZ FORRAJERO   \n",
       "1      MAIZ FORRAJERO  MAIZ FORRAJERO   \n",
       "2      MAIZ FORRAJERO  MAIZ FORRAJERO   \n",
       "\n",
       "  DESAGREGACIÓN REGIONAL Y/O SISTEMA PRODUCTIVO  CÓDIGO CULTIVO  \\\n",
       "0                                MAIZ FORRAJERO         1060101   \n",
       "1                                MAIZ FORRAJERO         1060101   \n",
       "2                                MAIZ FORRAJERO         1060101   \n",
       "\n",
       "  NOMBRE CIENTIFICO PERIODO  Área Sembrada(ha)  Área Cosechada(ha)  \\\n",
       "0          ZEA MAYS   2018A                150                 150   \n",
       "1          ZEA MAYS   2018A                 23                  22   \n",
       "2          ZEA MAYS   2018A                320                  74   \n",
       "\n",
       "   Producción(t)  Rendimiento(t/ha) ESTADO FISICO PRODUCCION  \n",
       "0           4200               28.0               GRANO SECO  \n",
       "1            726               33.0               GRANO SECO  \n",
       "2            222                3.0               GRANO SECO  "
      ]
     },
     "execution_count": 21,
     "metadata": {},
     "output_type": "execute_result"
    }
   ],
   "source": [
    "# data_t.head(3)\n",
    "data_m.head(3)"
   ]
  },
  {
   "cell_type": "code",
   "execution_count": 58,
   "metadata": {},
   "outputs": [],
   "source": [
    "indices_t = ['COD_DPTO', 'DPTOMPIO', 'SEMESTRE', 'TMEAN']\n",
    "indices_m = ['CÓD. DEP.', 'CÓD. MUN.', 'PERIODO', 'Rendimiento(t/ha)', 'Producción(t)', 'Área Cosechada(ha)', 'Área Sembrada(ha)']\n",
    "\n",
    "\n",
    "data_mm = data_m[data_m['Producción(t)'] != 0.]\n",
    "# data_m.drop_duplicates(subset = indices_m[:-1])\n",
    "dd = data_mm.groupby(by = indices_m[:-1], axis = 0, as_index = False).mean()\n",
    "\n",
    "merged = dd[indices_m].merge(right = data_t[indices_t], how = 'inner', left_on = indices_m[:3], right_on = indices_t[:3])[indices_t[:] + indices_m[3:]]\n",
    "# merged = merged.drop_duplicates(subset = indices_m[:-1])\n"
   ]
  },
  {
   "cell_type": "code",
   "execution_count": 59,
   "metadata": {},
   "outputs": [
    {
     "name": "stdout",
     "output_type": "stream",
     "text": [
      "<class 'pandas.core.frame.DataFrame'>\n",
      "Int64Index: 7408 entries, 0 to 7407\n",
      "Data columns (total 8 columns):\n",
      "COD_DPTO              7408 non-null int64\n",
      "DPTOMPIO              7408 non-null int64\n",
      "SEMESTRE              7408 non-null object\n",
      "TMEAN                 7404 non-null float64\n",
      "Rendimiento(t/ha)     7408 non-null float64\n",
      "Producción(t)         7408 non-null int64\n",
      "Área Cosechada(ha)    7408 non-null int64\n",
      "Área Sembrada(ha)     7408 non-null int64\n",
      "dtypes: float64(2), int64(5), object(1)\n",
      "memory usage: 520.9+ KB\n"
     ]
    }
   ],
   "source": [
    "merged.info()"
   ]
  },
  {
   "cell_type": "code",
   "execution_count": 60,
   "metadata": {},
   "outputs": [
    {
     "data": {
      "text/html": [
       "<div>\n",
       "<style scoped>\n",
       "    .dataframe tbody tr th:only-of-type {\n",
       "        vertical-align: middle;\n",
       "    }\n",
       "\n",
       "    .dataframe tbody tr th {\n",
       "        vertical-align: top;\n",
       "    }\n",
       "\n",
       "    .dataframe thead th {\n",
       "        text-align: right;\n",
       "    }\n",
       "</style>\n",
       "<table border=\"1\" class=\"dataframe\">\n",
       "  <thead>\n",
       "    <tr style=\"text-align: right;\">\n",
       "      <th></th>\n",
       "      <th>COD_DPTO</th>\n",
       "      <th>DPTOMPIO</th>\n",
       "      <th>SEMESTRE</th>\n",
       "      <th>TMEAN</th>\n",
       "      <th>Rendimiento(t/ha)</th>\n",
       "      <th>Producción(t)</th>\n",
       "      <th>Área Cosechada(ha)</th>\n",
       "      <th>Área Sembrada(ha)</th>\n",
       "    </tr>\n",
       "  </thead>\n",
       "  <tbody>\n",
       "    <tr>\n",
       "      <th>0</th>\n",
       "      <td>5</td>\n",
       "      <td>5002</td>\n",
       "      <td>2015A</td>\n",
       "      <td>19.640895</td>\n",
       "      <td>1.4</td>\n",
       "      <td>420</td>\n",
       "      <td>300</td>\n",
       "      <td>300</td>\n",
       "    </tr>\n",
       "    <tr>\n",
       "      <th>1</th>\n",
       "      <td>5</td>\n",
       "      <td>5002</td>\n",
       "      <td>2015B</td>\n",
       "      <td>20.420068</td>\n",
       "      <td>1.4</td>\n",
       "      <td>364</td>\n",
       "      <td>260</td>\n",
       "      <td>300</td>\n",
       "    </tr>\n",
       "    <tr>\n",
       "      <th>2</th>\n",
       "      <td>5</td>\n",
       "      <td>5002</td>\n",
       "      <td>2016A</td>\n",
       "      <td>20.587932</td>\n",
       "      <td>1.4</td>\n",
       "      <td>420</td>\n",
       "      <td>300</td>\n",
       "      <td>40</td>\n",
       "    </tr>\n",
       "  </tbody>\n",
       "</table>\n",
       "</div>"
      ],
      "text/plain": [
       "   COD_DPTO  DPTOMPIO SEMESTRE      TMEAN  Rendimiento(t/ha)  Producción(t)  \\\n",
       "0         5      5002    2015A  19.640895                1.4            420   \n",
       "1         5      5002    2015B  20.420068                1.4            364   \n",
       "2         5      5002    2016A  20.587932                1.4            420   \n",
       "\n",
       "   Área Cosechada(ha)  Área Sembrada(ha)  \n",
       "0                 300                300  \n",
       "1                 260                300  \n",
       "2                 300                 40  "
      ]
     },
     "execution_count": 60,
     "metadata": {},
     "output_type": "execute_result"
    }
   ],
   "source": [
    "merged.head(3)"
   ]
  },
  {
   "cell_type": "code",
   "execution_count": 67,
   "metadata": {},
   "outputs": [
    {
     "data": {
      "text/plain": [
       "{5,\n",
       " 8,\n",
       " 13,\n",
       " 15,\n",
       " 17,\n",
       " 18,\n",
       " 19,\n",
       " 20,\n",
       " 23,\n",
       " 25,\n",
       " 27,\n",
       " 41,\n",
       " 44,\n",
       " 47,\n",
       " 50,\n",
       " 52,\n",
       " 54,\n",
       " 63,\n",
       " 66,\n",
       " 68,\n",
       " 70,\n",
       " 73,\n",
       " 76,\n",
       " 81,\n",
       " 85,\n",
       " 86,\n",
       " 88,\n",
       " 91,\n",
       " 94,\n",
       " 95,\n",
       " 97,\n",
       " 99}"
      ]
     },
     "execution_count": 67,
     "metadata": {},
     "output_type": "execute_result"
    }
   ],
   "source": [
    "set(merged['COD_DPTO'])"
   ]
  },
  {
   "cell_type": "code",
   "execution_count": 84,
   "metadata": {},
   "outputs": [],
   "source": [
    "m_gb = merged.groupby(by = indices_t[0], axis = 0).mean()"
   ]
  },
  {
   "cell_type": "code",
   "execution_count": 85,
   "metadata": {},
   "outputs": [
    {
     "data": {
      "text/html": [
       "<div>\n",
       "<style scoped>\n",
       "    .dataframe tbody tr th:only-of-type {\n",
       "        vertical-align: middle;\n",
       "    }\n",
       "\n",
       "    .dataframe tbody tr th {\n",
       "        vertical-align: top;\n",
       "    }\n",
       "\n",
       "    .dataframe thead th {\n",
       "        text-align: right;\n",
       "    }\n",
       "</style>\n",
       "<table border=\"1\" class=\"dataframe\">\n",
       "  <thead>\n",
       "    <tr style=\"text-align: right;\">\n",
       "      <th></th>\n",
       "      <th>DPTOMPIO</th>\n",
       "      <th>TMEAN</th>\n",
       "      <th>Rendimiento(t/ha)</th>\n",
       "      <th>Producción(t)</th>\n",
       "      <th>Área Cosechada(ha)</th>\n",
       "      <th>Área Sembrada(ha)</th>\n",
       "    </tr>\n",
       "    <tr>\n",
       "      <th>COD_DPTO</th>\n",
       "      <th></th>\n",
       "      <th></th>\n",
       "      <th></th>\n",
       "      <th></th>\n",
       "      <th></th>\n",
       "      <th></th>\n",
       "    </tr>\n",
       "  </thead>\n",
       "  <tbody>\n",
       "    <tr>\n",
       "      <th>5</th>\n",
       "      <td>5432.645425</td>\n",
       "      <td>21.456830</td>\n",
       "      <td>2.109314</td>\n",
       "      <td>306.199346</td>\n",
       "      <td>159.290850</td>\n",
       "      <td>161.359477</td>\n",
       "    </tr>\n",
       "    <tr>\n",
       "      <th>8</th>\n",
       "      <td>8514.166667</td>\n",
       "      <td>29.252065</td>\n",
       "      <td>1.621605</td>\n",
       "      <td>229.302469</td>\n",
       "      <td>145.123457</td>\n",
       "      <td>189.074074</td>\n",
       "    </tr>\n",
       "    <tr>\n",
       "      <th>13</th>\n",
       "      <td>13464.361111</td>\n",
       "      <td>27.764852</td>\n",
       "      <td>1.548148</td>\n",
       "      <td>1237.391975</td>\n",
       "      <td>733.447531</td>\n",
       "      <td>919.589506</td>\n",
       "    </tr>\n",
       "    <tr>\n",
       "      <th>15</th>\n",
       "      <td>15493.166071</td>\n",
       "      <td>17.203582</td>\n",
       "      <td>1.375714</td>\n",
       "      <td>77.273214</td>\n",
       "      <td>53.907143</td>\n",
       "      <td>43.128571</td>\n",
       "    </tr>\n",
       "    <tr>\n",
       "      <th>17</th>\n",
       "      <td>17443.437186</td>\n",
       "      <td>21.312269</td>\n",
       "      <td>3.252261</td>\n",
       "      <td>231.055276</td>\n",
       "      <td>29.859296</td>\n",
       "      <td>26.733668</td>\n",
       "    </tr>\n",
       "  </tbody>\n",
       "</table>\n",
       "</div>"
      ],
      "text/plain": [
       "              DPTOMPIO      TMEAN  Rendimiento(t/ha)  Producción(t)  \\\n",
       "COD_DPTO                                                              \n",
       "5          5432.645425  21.456830           2.109314     306.199346   \n",
       "8          8514.166667  29.252065           1.621605     229.302469   \n",
       "13        13464.361111  27.764852           1.548148    1237.391975   \n",
       "15        15493.166071  17.203582           1.375714      77.273214   \n",
       "17        17443.437186  21.312269           3.252261     231.055276   \n",
       "\n",
       "          Área Cosechada(ha)  Área Sembrada(ha)  \n",
       "COD_DPTO                                         \n",
       "5                 159.290850         161.359477  \n",
       "8                 145.123457         189.074074  \n",
       "13                733.447531         919.589506  \n",
       "15                 53.907143          43.128571  \n",
       "17                 29.859296          26.733668  "
      ]
     },
     "execution_count": 85,
     "metadata": {},
     "output_type": "execute_result"
    }
   ],
   "source": [
    "m_gb.head()"
   ]
  },
  {
   "cell_type": "code",
   "execution_count": 95,
   "metadata": {},
   "outputs": [
    {
     "data": {
      "image/png": "[encoded data removed]",
      "text/plain": [
       "<Figure size 432x288 with 1 Axes>"
      ]
     },
     "metadata": {
      "needs_background": "light"
     },
     "output_type": "display_data"
    }
   ],
   "source": [
    "colour = ['b', 'g', 'r', 'c']\n",
    "\n",
    "plt.figure()\n",
    "plt.plot(m_gb['TMEAN'], 1/m_gb['Rendimiento(t/ha)']*m_gb['Producción(t)'], colour[j]+'.')\n",
    "plt.ylim((0,1500))\n",
    "plt.show()"
   ]
  },
  {
   "cell_type": "code",
   "execution_count": 63,
   "metadata": {},
   "outputs": [
    {
     "data": {
      "text/plain": [
       "0       28.0\n",
       "1       33.0\n",
       "2        1.6\n",
       "3        3.0\n",
       "4        0.8\n",
       "        ... \n",
       "8494     6.0\n",
       "8495     7.0\n",
       "8496     7.0\n",
       "8497     8.0\n",
       "8498     7.5\n",
       "Name: Rendimiento(t/ha), Length: 8499, dtype: float64"
      ]
     },
     "execution_count": 63,
     "metadata": {},
     "output_type": "execute_result"
    }
   ],
   "source": [
    "merged['Rendimiento(t/ha)']"
   ]
  },
  {
   "cell_type": "code",
   "execution_count": 25,
   "metadata": {},
   "outputs": [
    {
     "data": {
      "text/plain": [
       "7882"
      ]
     },
     "execution_count": 25,
     "metadata": {},
     "output_type": "execute_result"
    }
   ],
   "source": [
    "# len(mm)\n",
    "len(tm)"
   ]
  },
  {
   "cell_type": "code",
   "execution_count": 31,
   "metadata": {},
   "outputs": [
    {
     "data": {
      "text/plain": [
       "609"
      ]
     },
     "execution_count": 31,
     "metadata": {},
     "output_type": "execute_result"
    }
   ],
   "source": [
    "len(set(tm[tm.isin(mm)])) # Cantidad de municipios que coinciden entre ambas tablas"
   ]
  },
  {
   "cell_type": "code",
   "execution_count": 13,
   "metadata": {},
   "outputs": [
    {
     "name": "stdout",
     "output_type": "stream",
     "text": [
      "CÓD. DEP.\n",
      "DEPARTAMENTO\n",
      "CÓD. MUN.\n",
      "MUNICIPIO\n",
      "GRUPO DE CULTIVO\n",
      "SUBGRUPO DE CULTIVO\n",
      "CULTIVO\n",
      "DESAGREGACIÓN REGIONAL Y/O SISTEMA PRODUCTIVO\n",
      "CÓDIGO CULTIVO\n",
      "NOMBRE CIENTIFICO\n",
      "PERIODO\n",
      "Área Sembrada(ha)\n",
      "Área Cosechada(ha)\n",
      "Producción(t)\n",
      "Rendimiento(t/ha)\n",
      "ESTADO FISICO PRODUCCION\n"
     ]
    },
    {
     "data": {
      "image/png": "[encoded data removed]",
      "text/plain": [
       "<Figure size 432x288 with 1 Axes>"
      ]
     },
     "metadata": {
      "needs_background": "light"
     },
     "output_type": "display_data"
    }
   ],
   "source": [
    "    \n",
    "ratio = [cos/sem if (sem != 0) else -1 for cos, sem in zip(data['Área Cosechada(ha)'].values, data['Área Sembrada(ha)'].values)]\n",
    "rend = data['Rendimiento(t/ha)'].values\n",
    "prod = data['Producción(t)'].values\n",
    "\n",
    "ratio = np.array(ratio)\n",
    "rend = np.array(rend)\n",
    "prod = np.array(prod)\n",
    "cos = np.array(data['Área Cosechada(ha)'].values)"
   ]
  }
 ],
 "metadata": {
  "kernelspec": {
   "display_name": "Python 3",
   "language": "python",
   "name": "python3"
  },
  "language_info": {
   "codemirror_mode": {
    "name": "ipython",
    "version": 3
   },
   "file_extension": ".py",
   "mimetype": "text/x-python",
   "name": "python",
   "nbconvert_exporter": "python",
   "pygments_lexer": "ipython3",
   "version": "3.8.0"
  }
 },
 "nbformat": 4,
 "nbformat_minor": 4
}
