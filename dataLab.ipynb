{
 "cells": [
  {
   "cell_type": "markdown",
   "metadata": {},
   "source": [
    "# Anexo\n",
    "\n",
    "En este anexo, se recogerán los datos guardados en archivos `csv` de la temperatura y de datos de las cosechas en Colombia durante distintos periodos de tiempo. Los uniremos y representaremos los datos para llegar a valores cuantificables y obtener las conclusiones del proyecto."
   ]
  },
  {
   "cell_type": "code",
   "execution_count": 1,
   "metadata": {},
   "outputs": [],
   "source": [
    "import pandas as pd\n",
    "import numpy as np\n",
    "import matplotlib.pyplot as plt\n",
    "import scipy.optimize as opt\n",
    "import scipy.stats as stats\n",
    "import re\n",
    "\n",
    "data_m = pd.read_csv(\"Cadena_Productiva_Maiz_-_Area__Produccion_Y_Rendimiento.csv\")\n",
    "data_t = pd.read_csv(\"tmean_gathered.csv\")\n",
    "\n",
    "%matplotlib inline"
   ]
  },
  {
   "cell_type": "markdown",
   "metadata": {},
   "source": [
    "Observemos cómo están ordenados los datos:"
   ]
  },
  {
   "cell_type": "code",
   "execution_count": 2,
   "metadata": {},
   "outputs": [
    {
     "data": {
      "text/html": [
       "<div>\n",
       "<style scoped>\n",
       "    .dataframe tbody tr th:only-of-type {\n",
       "        vertical-align: middle;\n",
       "    }\n",
       "\n",
       "    .dataframe tbody tr th {\n",
       "        vertical-align: top;\n",
       "    }\n",
       "\n",
       "    .dataframe thead th {\n",
       "        text-align: right;\n",
       "    }\n",
       "</style>\n",
       "<table border=\"1\" class=\"dataframe\">\n",
       "  <thead>\n",
       "    <tr style=\"text-align: right;\">\n",
       "      <th></th>\n",
       "      <th>CÓD. DEP.</th>\n",
       "      <th>DEPARTAMENTO</th>\n",
       "      <th>CÓD. MUN.</th>\n",
       "      <th>MUNICIPIO</th>\n",
       "      <th>GRUPO DE CULTIVO</th>\n",
       "      <th>SUBGRUPO DE CULTIVO</th>\n",
       "      <th>CULTIVO</th>\n",
       "      <th>DESAGREGACIÓN REGIONAL Y/O SISTEMA PRODUCTIVO</th>\n",
       "      <th>CÓDIGO CULTIVO</th>\n",
       "      <th>NOMBRE CIENTIFICO</th>\n",
       "      <th>PERIODO</th>\n",
       "      <th>Área Sembrada(ha)</th>\n",
       "      <th>Área Cosechada(ha)</th>\n",
       "      <th>Producción(t)</th>\n",
       "      <th>Rendimiento(t/ha)</th>\n",
       "      <th>ESTADO FISICO PRODUCCION</th>\n",
       "    </tr>\n",
       "  </thead>\n",
       "  <tbody>\n",
       "    <tr>\n",
       "      <th>0</th>\n",
       "      <td>5</td>\n",
       "      <td>ANTIOQUIA</td>\n",
       "      <td>5579</td>\n",
       "      <td>PUERTO BERRIO</td>\n",
       "      <td>CEREALES</td>\n",
       "      <td>MAIZ FORRAJERO</td>\n",
       "      <td>MAIZ FORRAJERO</td>\n",
       "      <td>MAIZ FORRAJERO</td>\n",
       "      <td>1060101</td>\n",
       "      <td>ZEA MAYS</td>\n",
       "      <td>2018A</td>\n",
       "      <td>150</td>\n",
       "      <td>150</td>\n",
       "      <td>4200</td>\n",
       "      <td>28.0</td>\n",
       "      <td>GRANO SECO</td>\n",
       "    </tr>\n",
       "    <tr>\n",
       "      <th>1</th>\n",
       "      <td>5</td>\n",
       "      <td>ANTIOQUIA</td>\n",
       "      <td>5400</td>\n",
       "      <td>LA UNION</td>\n",
       "      <td>CEREALES</td>\n",
       "      <td>MAIZ FORRAJERO</td>\n",
       "      <td>MAIZ FORRAJERO</td>\n",
       "      <td>MAIZ FORRAJERO</td>\n",
       "      <td>1060101</td>\n",
       "      <td>ZEA MAYS</td>\n",
       "      <td>2018A</td>\n",
       "      <td>23</td>\n",
       "      <td>22</td>\n",
       "      <td>726</td>\n",
       "      <td>33.0</td>\n",
       "      <td>GRANO SECO</td>\n",
       "    </tr>\n",
       "    <tr>\n",
       "      <th>2</th>\n",
       "      <td>20</td>\n",
       "      <td>CESAR</td>\n",
       "      <td>20250</td>\n",
       "      <td>EL PASO</td>\n",
       "      <td>CEREALES</td>\n",
       "      <td>MAIZ FORRAJERO</td>\n",
       "      <td>MAIZ FORRAJERO</td>\n",
       "      <td>MAIZ FORRAJERO</td>\n",
       "      <td>1060101</td>\n",
       "      <td>ZEA MAYS</td>\n",
       "      <td>2018A</td>\n",
       "      <td>320</td>\n",
       "      <td>74</td>\n",
       "      <td>222</td>\n",
       "      <td>3.0</td>\n",
       "      <td>GRANO SECO</td>\n",
       "    </tr>\n",
       "  </tbody>\n",
       "</table>\n",
       "</div>"
      ],
      "text/plain": [
       "   CÓD. DEP. DEPARTAMENTO  CÓD. MUN.      MUNICIPIO GRUPO DE CULTIVO  \\\n",
       "0          5    ANTIOQUIA       5579  PUERTO BERRIO         CEREALES   \n",
       "1          5    ANTIOQUIA       5400       LA UNION         CEREALES   \n",
       "2         20        CESAR      20250        EL PASO         CEREALES   \n",
       "\n",
       "  SUBGRUPO DE CULTIVO         CULTIVO  \\\n",
       "0      MAIZ FORRAJERO  MAIZ FORRAJERO   \n",
       "1      MAIZ FORRAJERO  MAIZ FORRAJERO   \n",
       "2      MAIZ FORRAJERO  MAIZ FORRAJERO   \n",
       "\n",
       "  DESAGREGACIÓN REGIONAL Y/O SISTEMA PRODUCTIVO  CÓDIGO CULTIVO  \\\n",
       "0                                MAIZ FORRAJERO         1060101   \n",
       "1                                MAIZ FORRAJERO         1060101   \n",
       "2                                MAIZ FORRAJERO         1060101   \n",
       "\n",
       "  NOMBRE CIENTIFICO PERIODO  Área Sembrada(ha)  Área Cosechada(ha)  \\\n",
       "0          ZEA MAYS   2018A                150                 150   \n",
       "1          ZEA MAYS   2018A                 23                  22   \n",
       "2          ZEA MAYS   2018A                320                  74   \n",
       "\n",
       "   Producción(t)  Rendimiento(t/ha) ESTADO FISICO PRODUCCION  \n",
       "0           4200               28.0               GRANO SECO  \n",
       "1            726               33.0               GRANO SECO  \n",
       "2            222                3.0               GRANO SECO  "
      ]
     },
     "execution_count": 2,
     "metadata": {},
     "output_type": "execute_result"
    }
   ],
   "source": [
    "data_m.head(3)"
   ]
  },
  {
   "cell_type": "code",
   "execution_count": 3,
   "metadata": {},
   "outputs": [
    {
     "data": {
      "text/html": [
       "<div>\n",
       "<style scoped>\n",
       "    .dataframe tbody tr th:only-of-type {\n",
       "        vertical-align: middle;\n",
       "    }\n",
       "\n",
       "    .dataframe tbody tr th {\n",
       "        vertical-align: top;\n",
       "    }\n",
       "\n",
       "    .dataframe thead th {\n",
       "        text-align: right;\n",
       "    }\n",
       "</style>\n",
       "<table border=\"1\" class=\"dataframe\">\n",
       "  <thead>\n",
       "    <tr style=\"text-align: right;\">\n",
       "      <th></th>\n",
       "      <th>AREA_HA</th>\n",
       "      <th>CODIGO_VER</th>\n",
       "      <th>COD_DPTO</th>\n",
       "      <th>DESCRIPCIO</th>\n",
       "      <th>DPTOMPIO</th>\n",
       "      <th>FUENTE</th>\n",
       "      <th>NOMBRE_VER</th>\n",
       "      <th>NOMB_MPIO</th>\n",
       "      <th>NOM_DEP</th>\n",
       "      <th>OBJECTID</th>\n",
       "      <th>OBSERVACIO</th>\n",
       "      <th>SEUDONIMOS</th>\n",
       "      <th>VIGENCIA</th>\n",
       "      <th>cat</th>\n",
       "      <th>SEMESTRE</th>\n",
       "      <th>TMEAN</th>\n",
       "    </tr>\n",
       "  </thead>\n",
       "  <tbody>\n",
       "    <tr>\n",
       "      <th>0</th>\n",
       "      <td>7099.487596</td>\n",
       "      <td>95001008</td>\n",
       "      <td>95</td>\n",
       "      <td>NaN</td>\n",
       "      <td>95001</td>\n",
       "      <td>DANE - ESRI</td>\n",
       "      <td>LA ORQUIDEA</td>\n",
       "      <td>SAN JOSÉ DEL GUAVIARE</td>\n",
       "      <td>GUAVIARE</td>\n",
       "      <td>27948</td>\n",
       "      <td>NaN</td>\n",
       "      <td>1.0</td>\n",
       "      <td>ESRI</td>\n",
       "      <td>26991</td>\n",
       "      <td>2015A</td>\n",
       "      <td>25.822514</td>\n",
       "    </tr>\n",
       "    <tr>\n",
       "      <th>1</th>\n",
       "      <td>7099.487596</td>\n",
       "      <td>95001008</td>\n",
       "      <td>95</td>\n",
       "      <td>NaN</td>\n",
       "      <td>95001</td>\n",
       "      <td>DANE - ESRI</td>\n",
       "      <td>LA ORQUIDEA</td>\n",
       "      <td>SAN JOSÉ DEL GUAVIARE</td>\n",
       "      <td>GUAVIARE</td>\n",
       "      <td>27948</td>\n",
       "      <td>NaN</td>\n",
       "      <td>1.0</td>\n",
       "      <td>ESRI</td>\n",
       "      <td>26991</td>\n",
       "      <td>2015B</td>\n",
       "      <td>25.984380</td>\n",
       "    </tr>\n",
       "    <tr>\n",
       "      <th>2</th>\n",
       "      <td>7099.487596</td>\n",
       "      <td>95001008</td>\n",
       "      <td>95</td>\n",
       "      <td>NaN</td>\n",
       "      <td>95001</td>\n",
       "      <td>DANE - ESRI</td>\n",
       "      <td>LA ORQUIDEA</td>\n",
       "      <td>SAN JOSÉ DEL GUAVIARE</td>\n",
       "      <td>GUAVIARE</td>\n",
       "      <td>27948</td>\n",
       "      <td>NaN</td>\n",
       "      <td>1.0</td>\n",
       "      <td>ESRI</td>\n",
       "      <td>26991</td>\n",
       "      <td>2016A</td>\n",
       "      <td>26.699660</td>\n",
       "    </tr>\n",
       "  </tbody>\n",
       "</table>\n",
       "</div>"
      ],
      "text/plain": [
       "       AREA_HA  CODIGO_VER  COD_DPTO DESCRIPCIO  DPTOMPIO       FUENTE  \\\n",
       "0  7099.487596    95001008        95        NaN     95001  DANE - ESRI   \n",
       "1  7099.487596    95001008        95        NaN     95001  DANE - ESRI   \n",
       "2  7099.487596    95001008        95        NaN     95001  DANE - ESRI   \n",
       "\n",
       "    NOMBRE_VER              NOMB_MPIO   NOM_DEP  OBJECTID OBSERVACIO  \\\n",
       "0  LA ORQUIDEA  SAN JOSÉ DEL GUAVIARE  GUAVIARE     27948        NaN   \n",
       "1  LA ORQUIDEA  SAN JOSÉ DEL GUAVIARE  GUAVIARE     27948        NaN   \n",
       "2  LA ORQUIDEA  SAN JOSÉ DEL GUAVIARE  GUAVIARE     27948        NaN   \n",
       "\n",
       "   SEUDONIMOS VIGENCIA    cat SEMESTRE      TMEAN  \n",
       "0         1.0     ESRI  26991    2015A  25.822514  \n",
       "1         1.0     ESRI  26991    2015B  25.984380  \n",
       "2         1.0     ESRI  26991    2016A  26.699660  "
      ]
     },
     "execution_count": 3,
     "metadata": {},
     "output_type": "execute_result"
    }
   ],
   "source": [
    "data_t.head(3)"
   ]
  },
  {
   "cell_type": "markdown",
   "metadata": {},
   "source": [
    "Creamos dos listas qeu contengan el nombre de las columnas que nos interesen de cada tabla. Estas serán aquellas que cuantifiquen la producción de maíz y la temperatura y luego el identificador del departamento y el periodo de tiempo. También eliminamos los datos que contengan producción 0 puesto que no ofrecen información e incluso puede llegar a significar que el dato es nulo dentro del archivo."
   ]
  },
  {
   "cell_type": "code",
   "execution_count": 4,
   "metadata": {},
   "outputs": [],
   "source": [
    "indices_t = ['COD_DPTO', 'SEMESTRE', 'TMEAN']\n",
    "indices_m = ['CÓD. DEP.', 'PERIODO', 'Rendimiento(t/ha)', 'Producción(t)', 'Área Cosechada(ha)', 'Área Sembrada(ha)']\n",
    "\n",
    "\n",
    "data_mm = data_m[data_m['Producción(t)'] != 0.] # Borramos los datos que tengan producción 0"
   ]
  },
  {
   "cell_type": "markdown",
   "metadata": {},
   "source": [
    "Cogiendo la tabla de los datos agrícolas, agrupamos los datos que tengan el mismo departamento y el mismo periodo de 6 meses (sumamos la producción, el rendimiento, etc.)."
   ]
  },
  {
   "cell_type": "code",
   "execution_count": 5,
   "metadata": {},
   "outputs": [],
   "source": [
    "def add_everything_m(df):\n",
    "    temp = df[indices_m[2:]].sum()\n",
    "    return temp\n",
    "\n",
    "dd = data_mm.groupby(by = indices_m[:2], axis = 0, as_index = False).apply(add_everything_m).reset_index()"
   ]
  },
  {
   "cell_type": "markdown",
   "metadata": {},
   "source": [
    "Hacemos los mismo para la temperatura pero cogemos la media:"
   ]
  },
  {
   "cell_type": "code",
   "execution_count": 6,
   "metadata": {},
   "outputs": [],
   "source": [
    "mm = data_t[indices_t].groupby(by = indices_t[:2], axis = 0, as_index = False).mean()"
   ]
  },
  {
   "cell_type": "markdown",
   "metadata": {},
   "source": [
    "Unimos ambas tablas en una sola por departamento y periodo de tiempo. Además cambiamos el nombre de las columnas:"
   ]
  },
  {
   "cell_type": "code",
   "execution_count": 7,
   "metadata": {},
   "outputs": [],
   "source": [
    "merged = dd.merge(right = mm,\n",
    "                             how = 'inner',\n",
    "                             left_on = dd.columns.tolist()[:2],\n",
    "                             right_on = mm.columns.tolist()[:2])\n",
    "\n",
    "merged.drop(columns = mm.columns.tolist()[:2], inplace = True) # Borramos las columnas indices de una de las tablas\n",
    "merged.columns = ['departamento','periodo', 'rendimiento', 'produccion', 'cosechada', 'sembrada', 'temp']"
   ]
  },
  {
   "cell_type": "code",
   "execution_count": 8,
   "metadata": {},
   "outputs": [
    {
     "data": {
      "text/html": [
       "<div>\n",
       "<style scoped>\n",
       "    .dataframe tbody tr th:only-of-type {\n",
       "        vertical-align: middle;\n",
       "    }\n",
       "\n",
       "    .dataframe tbody tr th {\n",
       "        vertical-align: top;\n",
       "    }\n",
       "\n",
       "    .dataframe thead th {\n",
       "        text-align: right;\n",
       "    }\n",
       "</style>\n",
       "<table border=\"1\" class=\"dataframe\">\n",
       "  <thead>\n",
       "    <tr style=\"text-align: right;\">\n",
       "      <th></th>\n",
       "      <th>departamento</th>\n",
       "      <th>periodo</th>\n",
       "      <th>rendimiento</th>\n",
       "      <th>produccion</th>\n",
       "      <th>cosechada</th>\n",
       "      <th>sembrada</th>\n",
       "      <th>temp</th>\n",
       "    </tr>\n",
       "  </thead>\n",
       "  <tbody>\n",
       "    <tr>\n",
       "      <th>0</th>\n",
       "      <td>5</td>\n",
       "      <td>2015A</td>\n",
       "      <td>150.0</td>\n",
       "      <td>26145.0</td>\n",
       "      <td>13531.0</td>\n",
       "      <td>15445.0</td>\n",
       "      <td>21.401455</td>\n",
       "    </tr>\n",
       "    <tr>\n",
       "      <th>1</th>\n",
       "      <td>5</td>\n",
       "      <td>2015B</td>\n",
       "      <td>154.9</td>\n",
       "      <td>28301.0</td>\n",
       "      <td>16261.0</td>\n",
       "      <td>14118.0</td>\n",
       "      <td>21.655113</td>\n",
       "    </tr>\n",
       "    <tr>\n",
       "      <th>2</th>\n",
       "      <td>5</td>\n",
       "      <td>2016A</td>\n",
       "      <td>137.3</td>\n",
       "      <td>25275.0</td>\n",
       "      <td>13356.0</td>\n",
       "      <td>15253.0</td>\n",
       "      <td>22.082711</td>\n",
       "    </tr>\n",
       "    <tr>\n",
       "      <th>3</th>\n",
       "      <td>5</td>\n",
       "      <td>2016B</td>\n",
       "      <td>255.8</td>\n",
       "      <td>31356.0</td>\n",
       "      <td>15815.0</td>\n",
       "      <td>15829.0</td>\n",
       "      <td>20.235452</td>\n",
       "    </tr>\n",
       "    <tr>\n",
       "      <th>4</th>\n",
       "      <td>5</td>\n",
       "      <td>2017A</td>\n",
       "      <td>222.4</td>\n",
       "      <td>28772.0</td>\n",
       "      <td>14148.0</td>\n",
       "      <td>12942.0</td>\n",
       "      <td>20.427394</td>\n",
       "    </tr>\n",
       "  </tbody>\n",
       "</table>\n",
       "</div>"
      ],
      "text/plain": [
       "   departamento periodo  rendimiento  produccion  cosechada  sembrada  \\\n",
       "0             5   2015A        150.0     26145.0    13531.0   15445.0   \n",
       "1             5   2015B        154.9     28301.0    16261.0   14118.0   \n",
       "2             5   2016A        137.3     25275.0    13356.0   15253.0   \n",
       "3             5   2016B        255.8     31356.0    15815.0   15829.0   \n",
       "4             5   2017A        222.4     28772.0    14148.0   12942.0   \n",
       "\n",
       "        temp  \n",
       "0  21.401455  \n",
       "1  21.655113  \n",
       "2  22.082711  \n",
       "3  20.235452  \n",
       "4  20.427394  "
      ]
     },
     "execution_count": 8,
     "metadata": {},
     "output_type": "execute_result"
    }
   ],
   "source": [
    "merged.to_csv('./datos_cosecha_temp.csv', index = False)\n",
    "merged.head()"
   ]
  },
  {
   "cell_type": "markdown",
   "metadata": {},
   "source": [
    "Tomamos la relación entre la producción en toneladas y el área cosechada. Proponemos que siguen una relación de proporcionalidad directa:\n",
    "$$Y = \\alpha X$$\n",
    "\n",
    "Creamos un modelo logarítmico y lo ajustamos a los datos:"
   ]
  },
  {
   "cell_type": "code",
   "execution_count": 18,
   "metadata": {},
   "outputs": [],
   "source": [
    "def ff(x, m,n):\n",
    "    return(np.exp(np.log(x)*m + n))\n",
    "\n",
    "popt, pcov = opt.curve_fit(ff, xdata = merged['cosechada'], ydata = merged['produccion'], p0 = [1, 0.1],\n",
    "                          method = 'trf',\n",
    "                          bounds = ([0.9, -np.inf], [1.1, np.inf]))\n",
    "err_t = -stats.t(merged.shape[0]-3).ppf(0.05/2)\n",
    "interval = np.sqrt(np.diag(pcov))*err_t"
   ]
  },
  {
   "cell_type": "code",
   "execution_count": 10,
   "metadata": {},
   "outputs": [
    {
     "data": {
      "text/html": [
       "<div>\n",
       "<style scoped>\n",
       "    .dataframe tbody tr th:only-of-type {\n",
       "        vertical-align: middle;\n",
       "    }\n",
       "\n",
       "    .dataframe tbody tr th {\n",
       "        vertical-align: top;\n",
       "    }\n",
       "\n",
       "    .dataframe thead th {\n",
       "        text-align: right;\n",
       "    }\n",
       "</style>\n",
       "<table border=\"1\" class=\"dataframe\">\n",
       "  <thead>\n",
       "    <tr style=\"text-align: right;\">\n",
       "      <th></th>\n",
       "      <th>Params</th>\n",
       "      <th>Errores</th>\n",
       "      <th>Errores (rel)</th>\n",
       "    </tr>\n",
       "  </thead>\n",
       "  <tbody>\n",
       "    <tr>\n",
       "      <th>0</th>\n",
       "      <td>1.100000</td>\n",
       "      <td>0.107960</td>\n",
       "      <td>0.098146</td>\n",
       "    </tr>\n",
       "    <tr>\n",
       "      <th>1</th>\n",
       "      <td>0.203505</td>\n",
       "      <td>1.111249</td>\n",
       "      <td>5.460555</td>\n",
       "    </tr>\n",
       "  </tbody>\n",
       "</table>\n",
       "</div>"
      ],
      "text/plain": [
       "     Params   Errores  Errores (rel)\n",
       "0  1.100000  0.107960       0.098146\n",
       "1  0.203505  1.111249       5.460555"
      ]
     },
     "execution_count": 10,
     "metadata": {},
     "output_type": "execute_result"
    }
   ],
   "source": [
    "pd.DataFrame({'Params': popt,\n",
    "             'Errores' : interval,\n",
    "            'Errores (rel)' : interval/popt})"
   ]
  },
  {
   "cell_type": "code",
   "execution_count": 19,
   "metadata": {},
   "outputs": [
    {
     "data": {
      "image/png": "[encoded data removed]",
      "text/plain": [
       "<Figure size 864x720 with 1 Axes>"
      ]
     },
     "metadata": {
      "needs_background": "light"
     },
     "output_type": "display_data"
    }
   ],
   "source": [
    "colour = ['b', 'g', 'r', 'c']\n",
    "\n",
    "fig = plt.figure(figsize = (12,10))\n",
    "ax = fig.add_subplot(1,1,1)\n",
    "plt.rc('font', size=20)\n",
    "\n",
    "plt.scatter('cosechada', 'produccion', data = merged,\n",
    "         color = 'blue',\n",
    "         s = 30,\n",
    "         )\n",
    "\n",
    "xx = np.logspace(1,\n",
    "                 6, 100)\n",
    "\n",
    "plt.plot(xx, ff(xx, *popt),\n",
    "         color = 'black',\n",
    "         linewidth = 4,\n",
    "         label = 'Ajuste')\n",
    "\n",
    "eq = r'''\n",
    "         $\\log(y) = m \\cdot \\log(x) + n$\n",
    "         m = ''' + \"{0:.2f}\".format(popt[0]) + '''$\\pm$''' + \"{0:.2f}\".format(interval[0]) + '''\n",
    "         n = ''' + \"{0:.1f}\".format(popt[1]) + '''$\\pm$''' + \"{0:.1f}\".format(interval[1])\n",
    "\n",
    "plt.text(-0.05,0.7,\n",
    "         s = eq,\n",
    "         transform=ax.transAxes)\n",
    "\n",
    "ax.set_xscale('log')\n",
    "ax.set_yscale('log')\n",
    "ax.set_xlim(1e1, 1e6)\n",
    "ax.set_ylim(1e1, 1e6)\n",
    "\n",
    "fig.suptitle('Produccion por unidad de área')\n",
    "plt.xlabel('Área cosechada (ha)')\n",
    "plt.ylabel('Producción (t)')\n",
    "plt.grid()\n",
    "fig.savefig('cosecha.png')\n",
    "plt.show()"
   ]
  },
  {
   "cell_type": "markdown",
   "metadata": {},
   "source": [
    "Ahora buscamos la relación entre la temperatura y el rendimiento de la tierra. Como los datos se encuentran muy dispersos, los agrupamos en intervalos regulares de temperatura para simplificar el problema."
   ]
  },
  {
   "cell_type": "code",
   "execution_count": 12,
   "metadata": {},
   "outputs": [],
   "source": [
    "def ff(df):\n",
    "    return pd.Series({'temp': df['temp'].mean(),\n",
    "                      'rendimiento.mean': df['rendimiento'].mean(),\n",
    "                      'rendimiento.std': df['rendimiento'].std()})\n",
    "\n",
    "cos = merged[['temp', 'rendimiento']].groupby(pd.cut(merged['temp'], np.arange(10, 31, 2.5))).apply(ff).dropna(axis = 0, how = 'any')"
   ]
  },
  {
   "cell_type": "code",
   "execution_count": 13,
   "metadata": {},
   "outputs": [
    {
     "data": {
      "text/html": [
       "<div>\n",
       "<style scoped>\n",
       "    .dataframe tbody tr th:only-of-type {\n",
       "        vertical-align: middle;\n",
       "    }\n",
       "\n",
       "    .dataframe tbody tr th {\n",
       "        vertical-align: top;\n",
       "    }\n",
       "\n",
       "    .dataframe thead th {\n",
       "        text-align: right;\n",
       "    }\n",
       "</style>\n",
       "<table border=\"1\" class=\"dataframe\">\n",
       "  <thead>\n",
       "    <tr style=\"text-align: right;\">\n",
       "      <th></th>\n",
       "      <th>temp</th>\n",
       "      <th>rendimiento.mean</th>\n",
       "      <th>rendimiento.std</th>\n",
       "    </tr>\n",
       "    <tr>\n",
       "      <th>temp</th>\n",
       "      <th></th>\n",
       "      <th></th>\n",
       "      <th></th>\n",
       "    </tr>\n",
       "  </thead>\n",
       "  <tbody>\n",
       "    <tr>\n",
       "      <th>(10.0, 12.5]</th>\n",
       "      <td>10.813844</td>\n",
       "      <td>1.300000</td>\n",
       "      <td>0.519615</td>\n",
       "    </tr>\n",
       "    <tr>\n",
       "      <th>(15.0, 17.5]</th>\n",
       "      <td>16.509104</td>\n",
       "      <td>92.027273</td>\n",
       "      <td>39.842643</td>\n",
       "    </tr>\n",
       "    <tr>\n",
       "      <th>(17.5, 20.0]</th>\n",
       "      <td>18.952998</td>\n",
       "      <td>96.553846</td>\n",
       "      <td>87.782383</td>\n",
       "    </tr>\n",
       "    <tr>\n",
       "      <th>(20.0, 22.5]</th>\n",
       "      <td>21.093960</td>\n",
       "      <td>154.132609</td>\n",
       "      <td>105.474071</td>\n",
       "    </tr>\n",
       "    <tr>\n",
       "      <th>(22.5, 25.0]</th>\n",
       "      <td>24.009160</td>\n",
       "      <td>75.180645</td>\n",
       "      <td>90.996258</td>\n",
       "    </tr>\n",
       "    <tr>\n",
       "      <th>(25.0, 27.5]</th>\n",
       "      <td>25.971555</td>\n",
       "      <td>32.289583</td>\n",
       "      <td>53.316299</td>\n",
       "    </tr>\n",
       "    <tr>\n",
       "      <th>(27.5, 30.0]</th>\n",
       "      <td>28.518000</td>\n",
       "      <td>52.005556</td>\n",
       "      <td>30.712621</td>\n",
       "    </tr>\n",
       "  </tbody>\n",
       "</table>\n",
       "</div>"
      ],
      "text/plain": [
       "                   temp  rendimiento.mean  rendimiento.std\n",
       "temp                                                      \n",
       "(10.0, 12.5]  10.813844          1.300000         0.519615\n",
       "(15.0, 17.5]  16.509104         92.027273        39.842643\n",
       "(17.5, 20.0]  18.952998         96.553846        87.782383\n",
       "(20.0, 22.5]  21.093960        154.132609       105.474071\n",
       "(22.5, 25.0]  24.009160         75.180645        90.996258\n",
       "(25.0, 27.5]  25.971555         32.289583        53.316299\n",
       "(27.5, 30.0]  28.518000         52.005556        30.712621"
      ]
     },
     "execution_count": 13,
     "metadata": {},
     "output_type": "execute_result"
    }
   ],
   "source": [
    "cos"
   ]
  },
  {
   "cell_type": "markdown",
   "metadata": {},
   "source": [
    "Haremos un modelo normal para los datos obtenidos:"
   ]
  },
  {
   "cell_type": "code",
   "execution_count": 14,
   "metadata": {},
   "outputs": [],
   "source": [
    "def ff(x, mu, sig, sca):\n",
    "    return(stats.norm(loc = mu, scale = sig).pdf(x)*sca)\n",
    "\n",
    "popt, pcov = opt.curve_fit(ff, xdata = cos['temp'], ydata = cos['rendimiento.mean'], p0 = [21, 5, 1800])\n",
    "err_t = -stats.t(cos.shape[0]-3).ppf(0.05/2)\n",
    "interval = np.sqrt(np.diag(pcov))*err_t"
   ]
  },
  {
   "cell_type": "code",
   "execution_count": 15,
   "metadata": {},
   "outputs": [
    {
     "data": {
      "text/html": [
       "<div>\n",
       "<style scoped>\n",
       "    .dataframe tbody tr th:only-of-type {\n",
       "        vertical-align: middle;\n",
       "    }\n",
       "\n",
       "    .dataframe tbody tr th {\n",
       "        vertical-align: top;\n",
       "    }\n",
       "\n",
       "    .dataframe thead th {\n",
       "        text-align: right;\n",
       "    }\n",
       "</style>\n",
       "<table border=\"1\" class=\"dataframe\">\n",
       "  <thead>\n",
       "    <tr style=\"text-align: right;\">\n",
       "      <th></th>\n",
       "      <th>Params</th>\n",
       "      <th>Errores</th>\n",
       "      <th>Errores (rel)</th>\n",
       "    </tr>\n",
       "  </thead>\n",
       "  <tbody>\n",
       "    <tr>\n",
       "      <th>0</th>\n",
       "      <td>20.391157</td>\n",
       "      <td>2.363285</td>\n",
       "      <td>0.115898</td>\n",
       "    </tr>\n",
       "    <tr>\n",
       "      <th>1</th>\n",
       "      <td>4.107154</td>\n",
       "      <td>2.576097</td>\n",
       "      <td>0.627222</td>\n",
       "    </tr>\n",
       "    <tr>\n",
       "      <th>2</th>\n",
       "      <td>1320.222426</td>\n",
       "      <td>673.183124</td>\n",
       "      <td>0.509901</td>\n",
       "    </tr>\n",
       "  </tbody>\n",
       "</table>\n",
       "</div>"
      ],
      "text/plain": [
       "        Params     Errores  Errores (rel)\n",
       "0    20.391157    2.363285       0.115898\n",
       "1     4.107154    2.576097       0.627222\n",
       "2  1320.222426  673.183124       0.509901"
      ]
     },
     "execution_count": 15,
     "metadata": {},
     "output_type": "execute_result"
    }
   ],
   "source": [
    "pd.DataFrame({'Params': popt,\n",
    "             'Errores' : interval,\n",
    "            'Errores (rel)' : interval/popt})"
   ]
  },
  {
   "cell_type": "markdown",
   "metadata": {},
   "source": [
    "Representamos los datos el la aproximación del modelo. Encontramos así la temperatura óptima para conseguir el mayor rendimiento."
   ]
  },
  {
   "cell_type": "code",
   "execution_count": 16,
   "metadata": {},
   "outputs": [
    {
     "data": {
      "image/png": "[encoded data removed]",
      "text/plain": [
       "<Figure size 864x720 with 1 Axes>"
      ]
     },
     "metadata": {
      "needs_background": "light"
     },
     "output_type": "display_data"
    }
   ],
   "source": [
    "colour = ['b', 'g', 'r', 'c']\n",
    "\n",
    "fig = plt.figure(figsize = (12,10))\n",
    "ax = fig.add_subplot(1,1,1)\n",
    "plt.rc('font', size=25)\n",
    "\n",
    "plt.plot('temp', 'rendimiento.mean', data = cos.dropna(axis = 0, how = 'any'),\n",
    "         color = colour[2],\n",
    "         linewidth = 4,\n",
    "         label = 'Media')\n",
    "\n",
    "xx = np.linspace(10,\n",
    "                 30, 100)\n",
    "plt.plot(xx, ff(xx, *popt),\n",
    "         color = 'black',\n",
    "         linewidth = 4,\n",
    "         label = 'Ajuste')\n",
    "\n",
    "eq = r'''\n",
    "         $y = A \\cdot \\mathrm{N}(\\mu, \\sigma)$\n",
    "         $\\mu = $''' + \"{0:.0f}\".format(popt[0]) + '''$\\pm$''' + \"{0:.0f}\".format(interval[0]) + '''$\\degree$C\n",
    "         $\\sigma = $''' + \"{0:.0f}\".format(popt[1]) + '''$\\pm$''' + \"{0:.0f}\".format(interval[1]) + '''$\\degree$C\n",
    "         A$ = $''' + \"{0:.0f}\".format(popt[2]) + '''$\\pm$''' + \"{0:.0f}\".format(interval[2]) + r'''$\\frac{\\degree C t}{ha}$'''\n",
    "\n",
    "plt.text(-0.1,0.7,\n",
    "         s = eq,\n",
    "         transform=ax.transAxes)\n",
    "\n",
    "fig.suptitle('Rendimiento de la tierra')\n",
    "plt.xlabel('Temperatura (Celcius)')\n",
    "plt.ylabel('Rendimiento (t/ha)')\n",
    "plt.legend()\n",
    "plt.grid()\n",
    "fig.savefig('rendimiento.png')\n",
    "plt.show()"
   ]
  }
 ],
 "metadata": {
  "kernelspec": {
   "display_name": "Python 3",
   "language": "python",
   "name": "python3"
  },
  "language_info": {
   "codemirror_mode": {
    "name": "ipython",
    "version": 3
   },
   "file_extension": ".py",
   "mimetype": "text/x-python",
   "name": "python",
   "nbconvert_exporter": "python",
   "pygments_lexer": "ipython3",
   "version": "3.8.1"
  }
 },
 "nbformat": 4,
 "nbformat_minor": 4
}
